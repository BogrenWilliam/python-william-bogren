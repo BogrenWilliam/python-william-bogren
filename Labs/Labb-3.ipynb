{
 "cells": [
  {
   "cell_type": "code",
   "execution_count": null,
   "metadata": {},
   "outputs": [],
   "source": [
    "                \n",
    "                \n",
    "                \n",
    "                \n",
    "                \n",
    "                \n",
    "                \n",
    "                \n",
    "                \n",
    "                \n",
    "                \n",
    "                \n",
    "                \n",
    "                \n",
    "                \n",
    "                \n",
    "                # moduler \n",
    "                    # börja med UML\n",
    "                    # sedan py \"shapes\"\n",
    "                    # Classes \n",
    "                    # @property"
   ]
  }
 ],
 "metadata": {
  "kernelspec": {
   "display_name": "Python 3.9.13 ('python-william-bogren-mpQ1vL3Q')",
   "language": "python",
   "name": "python3"
  },
  "language_info": {
   "name": "python",
   "version": "3.9.13"
  },
  "orig_nbformat": 4,
  "vscode": {
   "interpreter": {
    "hash": "eb48874f49c3f1c6ebacc14d3acb04396bfc1bc699b6f267f3154c0c7ad0a59a"
   }
  }
 },
 "nbformat": 4,
 "nbformat_minor": 2
}
