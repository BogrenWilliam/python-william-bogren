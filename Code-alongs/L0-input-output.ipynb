{
 "cells": [
  {
   "cell_type": "markdown",
   "metadata": {},
   "source": [
    "## Code along - input-output\n"
   ]
  },
  {
   "cell_type": "code",
   "execution_count": 13,
   "metadata": {},
   "outputs": [
    {
     "ename": "SyntaxError",
     "evalue": "invalid syntax (232193267.py, line 7)",
     "output_type": "error",
     "traceback": [
      "\u001b[1;36m  Input \u001b[1;32mIn [13]\u001b[1;36m\u001b[0m\n\u001b[1;33m    print(f\"hej\"{name}, du är {age} gammal\")\u001b[0m\n\u001b[1;37m                ^\u001b[0m\n\u001b[1;31mSyntaxError\u001b[0m\u001b[1;31m:\u001b[0m invalid syntax\n"
     ]
    }
   ],
   "source": [
    "\n",
    "#varibale - data type string \n",
    "# create a variable (\"box\") and assigns a value\n",
    "name = \"William\"\n",
    "age = 19.5\n",
    "\n",
    "# this is an f-string (formatted string)\n",
    "print(f\"hej\"{name}, du är {age} gammal\")\n",
    "name = 20 \n",
    "#reassings \n",
    "# note: bad practice\n",
    "print(name)"
   ]
  },
  {
   "cell_type": "code",
   "execution_count": null,
   "metadata": {},
   "outputs": [],
   "source": [
    "\n",
    "\n",
    "\n",
    "\n",
    "#in order to print {} curly brackets \n",
    "print(f\" {force} \\u007b \\u00b7d\")\n",
    "print(f\"{{}}\") "
   ]
  }
 ],
 "metadata": {
  "kernelspec": {
   "display_name": "Python 3.9.13 64-bit",
   "language": "python",
   "name": "python3"
  },
  "language_info": {
   "codemirror_mode": {
    "name": "ipython",
    "version": 3
   },
   "file_extension": ".py",
   "mimetype": "text/x-python",
   "name": "python",
   "nbconvert_exporter": "python",
   "pygments_lexer": "ipython3",
   "version": "3.9.13"
  },
  "orig_nbformat": 4,
  "vscode": {
   "interpreter": {
    "hash": "ebe65bd140f136c7973b34a71311e0e4e1c4b538cdbbcbab3215c09a10679b97"
   }
  }
 },
 "nbformat": 4,
 "nbformat_minor": 2
}
