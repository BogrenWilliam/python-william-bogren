{
 "cells": [
  {
   "cell_type": "code",
   "execution_count": null,
   "metadata": {},
   "outputs": [],
   "source": []
  },
  {
   "cell_type": "markdown",
   "metadata": {},
   "source": [
    "## while loop\n"
   ]
  },
  {
   "cell_type": "code",
   "execution_count": null,
   "metadata": {},
   "outputs": [],
   "source": [
    "# while loop\n",
    "\n",
    "from cProfile import run\n",
    "from email.headerregistry import HeaderRegistry\n",
    "\n",
    "\n",
    "- \"if-loop\"\n",
    "- as long a a condition is true -> the statements inside the while loop will run\n",
    "\n",
    "```py\n",
    "while condtion:\n",
    "    statements\n",
    "    ...\n",
    "\n",
    "program continues here\n",
    "```"
   ]
  },
  {
   "cell_type": "code",
   "execution_count": 3,
   "metadata": {},
   "outputs": [
    {
     "name": "stdout",
     "output_type": "stream",
     "text": [
      "hej i=0\n",
      "Program continues here\n",
      "hej i=1\n",
      "Program continues here\n",
      "hej i=2\n",
      "Program continues here\n",
      "hej i=3\n",
      "Program continues here\n"
     ]
    }
   ],
   "source": [
    "i = 0\n",
    "\n",
    "while i < 4: \n",
    "    print(f\"hej {i=}\")\n",
    "    i += 1 # adds one to i <=> i = + 1\n",
    "    print(\"Program continues here\")"
   ]
  },
  {
   "cell_type": "code",
   "execution_count": null,
   "metadata": {},
   "outputs": [],
   "source": []
  },
  {
   "cell_type": "code",
   "execution_count": 7,
   "metadata": {},
   "outputs": [
    {
     "name": "stdout",
     "output_type": "stream",
     "text": [
      "year 1: number of birds 40000 left\n",
      "year 2: number of birds 20000 left\n",
      "year 3: number of birds 10000 left\n",
      "year 4: number of birds 5000 left\n"
     ]
    }
   ],
   "source": [
    "# Example - bords and oil\n",
    "\n",
    "birds, years = 80000, 0 #tuple unpackning \n",
    "\n",
    "limit  = birds/10\n",
    "\n",
    "while birds >= limit:\n",
    "    birds /= 2\n",
    "    years += 1\n",
    "    print(f\"year {years}: number of birds {birds:.0f} left\")"
   ]
  },
  {
   "cell_type": "code",
   "execution_count": 12,
   "metadata": {},
   "outputs": [
    {
     "ename": "ModuleNotFoundError",
     "evalue": "No module named 'matplotlib'",
     "output_type": "error",
     "traceback": [
      "\u001b[1;31m---------------------------------------------------------------------------\u001b[0m",
      "\u001b[1;31mModuleNotFoundError\u001b[0m                       Traceback (most recent call last)",
      "\u001b[1;32mc:\\Users\\Willi\\OneDrive\\Dokument\\GitHub\\python-william-bogren\\Code-alongs\\L2-while_statments.ipynb Cell 7\u001b[0m in \u001b[0;36m<cell line: 1>\u001b[1;34m()\u001b[0m\n\u001b[1;32m----> <a href='vscode-notebook-cell:/c%3A/Users/Willi/OneDrive/Dokument/GitHub/python-william-bogren/Code-alongs/L2-while_statments.ipynb#W6sZmlsZQ%3D%3D?line=0'>1</a>\u001b[0m \u001b[39mimport\u001b[39;00m \u001b[39mmatplotlib\u001b[39;00m\u001b[39m.\u001b[39;00m\u001b[39mpyplot\u001b[39;00m \u001b[39mas\u001b[39;00m \u001b[39mplt\u001b[39;00m\n\u001b[0;32m      <a href='vscode-notebook-cell:/c%3A/Users/Willi/OneDrive/Dokument/GitHub/python-william-bogren/Code-alongs/L2-while_statments.ipynb#W6sZmlsZQ%3D%3D?line=2'>3</a>\u001b[0m bacterias \u001b[39m=\u001b[39m \u001b[39m1.5e6\u001b[39m \u001b[39m# 1.5 * 10^6\u001b[39;00m\n\u001b[0;32m      <a href='vscode-notebook-cell:/c%3A/Users/Willi/OneDrive/Dokument/GitHub/python-william-bogren/Code-alongs/L2-while_statments.ipynb#W6sZmlsZQ%3D%3D?line=3'>4</a>\u001b[0m factor \u001b[39m=\u001b[39m \u001b[39m1.5\u001b[39m\n",
      "\u001b[1;31mModuleNotFoundError\u001b[0m: No module named 'matplotlib'"
     ]
    }
   ],
   "source": [
    "import matplotlib.pyplot as plt\n",
    "\n",
    "bacterias = 1.5e6 # 1.5 * 10^6\n",
    "factor = 1.5\n",
    "hours = 0 \n",
    "sour = 1e7 # 10¨7\n",
    "\n",
    "\n",
    "bacterias_list = [bacterias]\n",
    "\n",
    "print(bacterias_list)\n",
    "\n",
    "while bacterias < sour:\n",
    "     bacterias *= factor \n",
    "     hours += 1 \n",
    "     bacterias_list.append(bacterias) # adds elemnt into the list\n",
    "print(bacterias_list)\n",
    "print(f\"Takes {hours}h for milk to get sourced\")\n",
    "\n",
    "# creates a range object with numbers: 0,1,2,...,hours\n",
    "hours_list = range(0,hours+1)\n",
    "\n",
    "plt.plot(hours_list,bacterias_list)"
   ]
  }
 ],
 "metadata": {
  "kernelspec": {
   "display_name": "Python 3.9.13 64-bit",
   "language": "python",
   "name": "python3"
  },
  "language_info": {
   "codemirror_mode": {
    "name": "ipython",
    "version": 3
   },
   "file_extension": ".py",
   "mimetype": "text/x-python",
   "name": "python",
   "nbconvert_exporter": "python",
   "pygments_lexer": "ipython3",
   "version": "3.9.13"
  },
  "orig_nbformat": 4,
  "vscode": {
   "interpreter": {
    "hash": "ebe65bd140f136c7973b34a71311e0e4e1c4b538cdbbcbab3215c09a10679b97"
   }
  }
 },
 "nbformat": 4,
 "nbformat_minor": 2
}
