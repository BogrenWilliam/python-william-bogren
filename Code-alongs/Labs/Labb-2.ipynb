{
 "cells": [
  {
   "cell_type": "code",
   "execution_count": null,
   "metadata": {},
   "outputs": [],
   "source": [
    "import string\n",
    "import matplotlib.pyplot as plt\n",
    "\n",
    "with open(\"..//..//datapoints.txt\")as f_read:\n",
    "\n",
    "     \n",
    "    \n",
    "\n",
    "\n",
    "\n",
    "# ../../Data/quotes.txt\"\n",
    "\n"
   ]
  },
  {
   "cell_type": "markdown",
   "metadata": {},
   "source": []
  }
 ],
 "metadata": {
  "kernelspec": {
   "display_name": "Python 3.9.13 ('python-william-bogren-mpQ1vL3Q')",
   "language": "python",
   "name": "python3"
  },
  "language_info": {
   "name": "python",
   "version": "3.9.13"
  },
  "orig_nbformat": 4,
  "vscode": {
   "interpreter": {
    "hash": "eb48874f49c3f1c6ebacc14d3acb04396bfc1bc699b6f267f3154c0c7ad0a59a"
   }
  }
 },
 "nbformat": 4,
 "nbformat_minor": 2
}
