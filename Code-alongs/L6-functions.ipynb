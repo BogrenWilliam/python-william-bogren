{
 "cells": [
  {
   "cell_type": "markdown",
   "metadata": {},
   "source": [
    "## Functions"
   ]
  },
  {
   "cell_type": "code",
   "execution_count": 1,
   "metadata": {},
   "outputs": [
    {
     "name": "stdout",
     "output_type": "stream",
     "text": [
      "cuber(5)=125\n"
     ]
    },
    {
     "data": {
      "text/plain": [
       "[0, 1, 8, 27, 64, 125, 216, 343, 512, 729]"
      ]
     },
     "execution_count": 1,
     "metadata": {},
     "output_type": "execute_result"
    }
   ],
   "source": [
    "# Define a function called cuber, it takes in 1 parameter\n",
    "def cuber(x): \n",
    "    return x**3\n",
    "\n",
    "# calls the function cuber using 1 argument \n",
    "print(f\"{cuber(5)=}\")\n",
    "cubes = [cuber(i) for i in range(10)]\n",
    "cubes \n"
   ]
  },
  {
   "cell_type": "code",
   "execution_count": 4,
   "metadata": {},
   "outputs": [
    {
     "ename": "ModuleNotFoundError",
     "evalue": "No module named 'matplotlib'",
     "output_type": "error",
     "traceback": [
      "\u001b[1;31m---------------------------------------------------------------------------\u001b[0m",
      "\u001b[1;31mModuleNotFoundError\u001b[0m                       Traceback (most recent call last)",
      "\u001b[1;32mc:\\Users\\Willi\\OneDrive\\Dokument\\GitHub\\python-william-bogren\\Code-alongs\\L6-functions.ipynb Cell 3\u001b[0m in \u001b[0;36m<cell line: 1>\u001b[1;34m()\u001b[0m\n\u001b[1;32m----> <a href='vscode-notebook-cell:/c%3A/Users/Willi/OneDrive/Dokument/GitHub/python-william-bogren/Code-alongs/L6-functions.ipynb#W4sZmlsZQ%3D%3D?line=0'>1</a>\u001b[0m \u001b[39mimport\u001b[39;00m \u001b[39mmatplotlib\u001b[39;00m\u001b[39m.\u001b[39;00m\u001b[39mpyplot\u001b[39;00m \u001b[39mas\u001b[39;00m \u001b[39mplt\u001b[39;00m\n\u001b[0;32m      <a href='vscode-notebook-cell:/c%3A/Users/Willi/OneDrive/Dokument/GitHub/python-william-bogren/Code-alongs/L6-functions.ipynb#W4sZmlsZQ%3D%3D?line=2'>3</a>\u001b[0m plt\u001b[39m.\u001b[39mplot(cubes)\n",
      "\u001b[1;31mModuleNotFoundError\u001b[0m: No module named 'matplotlib'"
     ]
    }
   ],
   "source": [
    "import matplotlib.pyplot as plt\n",
    "\n",
    "plt.plot(cubes);"
   ]
  },
  {
   "cell_type": "code",
   "execution_count": 5,
   "metadata": {},
   "outputs": [
    {
     "name": "stdout",
     "output_type": "stream",
     "text": [
      "number1=1, number2=3, number3= 6\n",
      "3.3333333333333335\n",
      "number1=0, number2=5, number3= 4\n",
      "3.0\n"
     ]
    }
   ],
   "source": [
    "# 3 parameters\n",
    "def my_mean(number1, number2, number3):\n",
    "    print(f\"{number1=}, {number2=}, {number3= }\")\n",
    "    return (number1+number2+number3)/3\n",
    "\n",
    "# 3 arguments\n",
    "print(my_mean(1,3,6)) \n",
    "print(my_mean(0,5,4))\n",
    "\n",
    "double_mean  = my_mean(1,2,3)*2\n",
    "print(double_mean)\n"
   ]
  },
  {
   "cell_type": "markdown",
   "metadata": {},
   "source": [
    "## Default values"
   ]
  },
  {
   "cell_type": "code",
   "execution_count": 13,
   "metadata": {},
   "outputs": [
    {
     "name": "stdout",
     "output_type": "stream",
     "text": [
      "hej buddy, du är 0 år\n",
      "hej buddy, du är 0 år\n",
      "hej bella, du är 1 år\n",
      "Ange en ålder högre >= 0\n",
      "hej buddy, du är 34 år\n"
     ]
    }
   ],
   "source": [
    "\n",
    "def hello(number_of_greetings, name = \"buddy\", age = 0):\n",
    "    if float(age) < 0:\n",
    "        print(\"Ange en ålder högre >= 0\")\n",
    "        return\n",
    "    \n",
    "    for i in range(number_of_greetings):\n",
    "        print(f\"hej {name}, du är {age} år\")\n",
    "    # note no return -> void function\n",
    "\n",
    "hello(2)\n",
    "\n",
    "hello(1, \"bella\", \"1\")\n",
    "\n",
    "hello(1, 5, -2)\n",
    "\n",
    "# age and name are keyword arguemnts\n",
    "# number_of_greetings is a positional arguemnt \n",
    "hello(1, age = 34,)\n"
   ]
  },
  {
   "cell_type": "code",
   "execution_count": 16,
   "metadata": {},
   "outputs": [
    {
     "data": {
      "text/plain": [
       "8"
      ]
     },
     "execution_count": 16,
     "metadata": {},
     "output_type": "execute_result"
    }
   ],
   "source": [
    "def word_counter(text =\"\"):\n",
    "    word_list = text.split()\n",
    "    return len(word_list)\n",
    "\n",
    "quote  = \"No i am your father - Luke Skywalker\"\n",
    "word_counter(quote)\n"
   ]
  },
  {
   "cell_type": "markdown",
   "metadata": {},
   "source": [
    "## Arbitary Arguments -*args"
   ]
  },
  {
   "cell_type": "code",
   "execution_count": null,
   "metadata": {},
   "outputs": [],
   "source": [
    "def my_mean2(*numbers): \n",
    "    sum_ = o \n",
    "    for number in numbers: \n",
    "        sum_ += number\n",
    "        return sum_/len(numbers)\n",
    "    \n",
    "my_mean2(1,2,3,4,5)\n",
    "\n",
    "# keyword argument \"**\"\n"
   ]
  },
  {
   "cell_type": "code",
   "execution_count": null,
   "metadata": {},
   "outputs": [],
   "source": []
  },
  {
   "cell_type": "markdown",
   "metadata": {},
   "source": [
    "## lambda\n",
    "\n",
    "- anonumous function"
   ]
  },
  {
   "cell_type": "code",
   "execution_count": null,
   "metadata": {},
   "outputs": [],
   "source": [
    "cuber = lambda x: x**3\n",
    "\n",
    "cuber(3)"
   ]
  },
  {
   "cell_type": "markdown",
   "metadata": {},
   "source": [
    "## Draw lines"
   ]
  },
  {
   "cell_type": "code",
   "execution_count": 17,
   "metadata": {},
   "outputs": [],
   "source": [
    "\n",
    "def draw_lines(x, k=1, m=1, title = \"\"):\n",
    "    y = [k*x+m for x in x_list]\n",
    "\n",
    "    plt.plot(x_list, y_list)\n",
    "    plt.xlabel(\"x\")\n",
    "    plt.ylabel(\"y\")\n",
    "    plt.title(title)\n",
    "\n",
    "    x = list(range(-10,10))\n",
    "    draw_lines(x, title = \"lines\")\n",
    "    draw_lines(x, k=-2, m=-1, title = \"Lines\")\n",
    "\n",
    "    # TODO find intersection point and plot it\n"
   ]
  }
 ],
 "metadata": {
  "kernelspec": {
   "display_name": "Python 3.9.13 ('python-william-bogren-mpQ1vL3Q')",
   "language": "python",
   "name": "python3"
  },
  "language_info": {
   "codemirror_mode": {
    "name": "ipython",
    "version": 3
   },
   "file_extension": ".py",
   "mimetype": "text/x-python",
   "name": "python",
   "nbconvert_exporter": "python",
   "pygments_lexer": "ipython3",
   "version": "3.9.13"
  },
  "orig_nbformat": 4,
  "vscode": {
   "interpreter": {
    "hash": "eb48874f49c3f1c6ebacc14d3acb04396bfc1bc699b6f267f3154c0c7ad0a59a"
   }
  }
 },
 "nbformat": 4,
 "nbformat_minor": 2
}
