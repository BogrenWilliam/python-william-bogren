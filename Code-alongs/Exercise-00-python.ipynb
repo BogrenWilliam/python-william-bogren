{
 "cells": [
  {
   "cell_type": "code",
   "execution_count": null,
   "metadata": {},
   "outputs": [],
   "source": [
    "import math\n",
    "math.sqrt(3,4)"
   ]
  }
 ],
 "metadata": {
  "kernelspec": {
   "display_name": "Python 3.9.13 64-bit",
   "language": "python",
   "name": "python3"
  },
  "language_info": {
   "name": "python",
   "version": "3.9.13"
  },
  "orig_nbformat": 4,
  "vscode": {
   "interpreter": {
    "hash": "ebe65bd140f136c7973b34a71311e0e4e1c4b538cdbbcbab3215c09a10679b97"
   }
  }
 },
 "nbformat": 4,
 "nbformat_minor": 2
}
