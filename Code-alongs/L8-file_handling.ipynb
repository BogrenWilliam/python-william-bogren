{
 "cells": [
  {
   "cell_type": "code",
   "execution_count": null,
   "metadata": {},
   "outputs": [],
   "source": []
  },
  {
   "cell_type": "markdown",
   "metadata": {},
   "source": [
    "## File handling\n",
    "\n",
    "```py\n",
    "   \n",
    "with open(path, option) as name: \n",
    "     statements\n",
    "     ...\n",
    "```\n",
    "\n",
    "\n",
    "options \n",
    "\n",
    "- \"r\" - read \n",
    "- \"a\" - append to a file (if it doesnt exist - it will create the file)\n",
    "- \"w\" - write (if it doesnt exist - it will create the file)\n",
    "- \"x\" - create a file, error if it already exist\n",
    "\n"
   ]
  },
  {
   "cell_type": "code",
   "execution_count": 3,
   "metadata": {},
   "outputs": [
    {
     "name": "stdout",
     "output_type": "stream",
     "text": [
      "  If     we     knew what it was      we were doing, it would not be called research,          would it?     - Albert Einstein\n",
      "\n",
      "Time is a drug. Too       much of it kills you.  -  Terry Pratchett\n",
      "\n",
      "\n",
      " An expert is a person who       has made all the mistakes that           can be made in a          very narrow field - Niels Bohr\n",
      "\n",
      "   Everything must be made as simple as possible. But not simpler. - Albert Einstein     \n",
      "\n",
      "\n",
      "  Nothing in life                is to be feared, it is only to be understood. Now is the time to understand more, so that we may fear less. - Marie  Curie  \n",
      "\n",
      "If I have seen further     it is by standing on the shoulders of Giants. - Isaac Newton\n"
     ]
    }
   ],
   "source": [
    "# with open(\"\")\n",
    "path = \"../../Data/quotes.txt\"\n",
    "\n",
    "with open(path,  \"r\") as f: \n",
    "    text = f.read()\n",
    "\n",
    "print(text) "
   ]
  },
  {
   "cell_type": "code",
   "execution_count": null,
   "metadata": {},
   "outputs": [],
   "source": []
  },
  {
   "cell_type": "markdown",
   "metadata": {},
   "source": [
    "## Cleaning up quotes.txt \n",
    "\n",
    "- inspect txt-file manually (some prankster has added random noise in form of whitespace nad newlines)\n",
    "- remove leading and trailing whitespaces\n",
    "- remove execssive white speacin in between words \n",
    "- add quote numbers "
   ]
  },
  {
   "cell_type": "code",
   "execution_count": 4,
   "metadata": {},
   "outputs": [
    {
     "ename": "NameError",
     "evalue": "name 'path' is not defined",
     "output_type": "error",
     "traceback": [
      "\u001b[1;31m---------------------------------------------------------------------------\u001b[0m",
      "\u001b[1;31mNameError\u001b[0m                                 Traceback (most recent call last)",
      "\u001b[1;32mc:\\Users\\Willi\\OneDrive\\Dokument\\GitHub\\python-william-bogren\\Code-alongs\\Labs\\l8-file_handling.ipynb Cell 6\u001b[0m in \u001b[0;36m<cell line: 4>\u001b[1;34m()\u001b[0m\n\u001b[0;32m      <a href='vscode-notebook-cell:/c%3A/Users/Willi/OneDrive/Dokument/GitHub/python-william-bogren/Code-alongs/Labs/l8-file_handling.ipynb#W5sZmlsZQ%3D%3D?line=0'>1</a>\u001b[0m \u001b[39mimport\u001b[39;00m \u001b[39mre\u001b[39;00m \n\u001b[1;32m----> <a href='vscode-notebook-cell:/c%3A/Users/Willi/OneDrive/Dokument/GitHub/python-william-bogren/Code-alongs/Labs/l8-file_handling.ipynb#W5sZmlsZQ%3D%3D?line=3'>4</a>\u001b[0m \u001b[39mwith\u001b[39;00m \u001b[39mopen\u001b[39m(path, \u001b[39m\"\u001b[39m\u001b[39mr\u001b[39m\u001b[39m\"\u001b[39m) \u001b[39mas\u001b[39;00m f_read, \u001b[39mopen\u001b[39m(\u001b[39m\"\u001b[39m\u001b[39m../../Data/quotes_clean.txt\u001b[39m\u001b[39m\"\u001b[39m, \u001b[39m\"\u001b[39m\u001b[39mw\u001b[39m\u001b[39m\"\u001b[39m) \u001b[39mas\u001b[39;00m f_write: \n\u001b[0;32m      <a href='vscode-notebook-cell:/c%3A/Users/Willi/OneDrive/Dokument/GitHub/python-william-bogren/Code-alongs/Labs/l8-file_handling.ipynb#W5sZmlsZQ%3D%3D?line=4'>5</a>\u001b[0m     quote_number \u001b[39m=\u001b[39m \u001b[39m1\u001b[39m\n\u001b[0;32m      <a href='vscode-notebook-cell:/c%3A/Users/Willi/OneDrive/Dokument/GitHub/python-william-bogren/Code-alongs/Labs/l8-file_handling.ipynb#W5sZmlsZQ%3D%3D?line=5'>6</a>\u001b[0m         \u001b[39m# loops through each line in the text file\u001b[39;00m\n",
      "\u001b[1;31mNameError\u001b[0m: name 'path' is not defined"
     ]
    }
   ],
   "source": [
    "import re \n",
    "\n",
    "\n",
    "with open(path, \"r\") as f_read, open(\"../../Data/quotes_clean.txt\", \"w\") as f_write: \n",
    "    quote_number = 1\n",
    "        # loops through each line in the text file\n",
    "    for quote in f_read: \n",
    "            quote = quote.strip(\" \\n\") # removes leading and trailing spaces and nwlines\n",
    "            quote = re.sub(\" +\", \" \", quote) # regex to substitute >=1 whitespace with 1 whitespace \n",
    "           \n",
    "            # write to new file if the line is not \"\"\n",
    "            if quote != \"\": \n",
    "                f_write.write(f\"{i}. {quote}\\n\")\n",
    "                quote_number += 1 \n",
    "        \n",
    "            print(repr(quote, end =\"\"))  # doesn not take away print newlines\n",
    "\n",
    "\n",
    "          "
   ]
  },
  {
   "cell_type": "markdown",
   "metadata": {},
   "source": [
    "## Pick out the authors\n",
    "\n",
    "- find digit to find quote \n",
    "- extract first name and last names\n",
    "- join into  full name \n",
    "- get unique values"
   ]
  },
  {
   "cell_type": "code",
   "execution_count": 13,
   "metadata": {},
   "outputs": [
    {
     "ename": "FileNotFoundError",
     "evalue": "[Errno 2] No such file or directory: ' ../../Data/quotes_clean.txt'",
     "output_type": "error",
     "traceback": [
      "\u001b[1;31m---------------------------------------------------------------------------\u001b[0m",
      "\u001b[1;31mFileNotFoundError\u001b[0m                         Traceback (most recent call last)",
      "\u001b[1;32mc:\\Users\\Willi\\OneDrive\\Dokument\\GitHub\\python-william-bogren\\Code-alongs\\Labs\\l8-file_handling.ipynb Cell 8\u001b[0m in \u001b[0;36m<cell line: 1>\u001b[1;34m()\u001b[0m\n\u001b[1;32m----> <a href='vscode-notebook-cell:/c%3A/Users/Willi/OneDrive/Dokument/GitHub/python-william-bogren/Code-alongs/Labs/l8-file_handling.ipynb#X10sZmlsZQ%3D%3D?line=0'>1</a>\u001b[0m \u001b[39mwith\u001b[39;00m \u001b[39mopen\u001b[39m (\u001b[39m\"\u001b[39m\u001b[39m../../Data/quotes_clean.txt\u001b[39m\u001b[39m\"\u001b[39m, \u001b[39m\"\u001b[39m\u001b[39mr\u001b[39m\u001b[39m\"\u001b[39m) \u001b[39mas\u001b[39;00m f_quotes, \u001b[39mopen\u001b[39;49m(\u001b[39m\"\u001b[39;49m\u001b[39m ../../Data/quotes_clean.txt\u001b[39;49m\u001b[39m\"\u001b[39;49m, \u001b[39m\"\u001b[39;49m\u001b[39ma\u001b[39;49m\u001b[39m\"\u001b[39;49m) \u001b[39mas\u001b[39;00m f_append: \n\u001b[0;32m      <a href='vscode-notebook-cell:/c%3A/Users/Willi/OneDrive/Dokument/GitHub/python-william-bogren/Code-alongs/Labs/l8-file_handling.ipynb#X10sZmlsZQ%3D%3D?line=1'>2</a>\u001b[0m     \u001b[39m# reads in each line as a list\u001b[39;00m\n\u001b[0;32m      <a href='vscode-notebook-cell:/c%3A/Users/Willi/OneDrive/Dokument/GitHub/python-william-bogren/Code-alongs/Labs/l8-file_handling.ipynb#X10sZmlsZQ%3D%3D?line=2'>3</a>\u001b[0m     \u001b[39m# strips away \"\\n\"\u001b[39;00m\n\u001b[0;32m      <a href='vscode-notebook-cell:/c%3A/Users/Willi/OneDrive/Dokument/GitHub/python-william-bogren/Code-alongs/Labs/l8-file_handling.ipynb#X10sZmlsZQ%3D%3D?line=3'>4</a>\u001b[0m     quote \u001b[39m=\u001b[39m [quote\u001b[39m.\u001b[39mstrip(\u001b[39m\"\u001b[39m\u001b[39m\\n\u001b[39;00m\u001b[39m\"\u001b[39m) \u001b[39mfor\u001b[39;00m quote \u001b[39min\u001b[39;00m f_quotes\u001b[39m.\u001b[39mreadlines()] \n\u001b[0;32m      <a href='vscode-notebook-cell:/c%3A/Users/Willi/OneDrive/Dokument/GitHub/python-william-bogren/Code-alongs/Labs/l8-file_handling.ipynb#X10sZmlsZQ%3D%3D?line=4'>5</a>\u001b[0m     authors \u001b[39m=\u001b[39m [quote\u001b[39m.\u001b[39msplit() [\u001b[39m-\u001b[39m\u001b[39m2\u001b[39m:]\u001b[39mfor\u001b[39;00m quote \u001b[39min\u001b[39;00m f_quotes]\n",
      "\u001b[1;31mFileNotFoundError\u001b[0m: [Errno 2] No such file or directory: ' ../../Data/quotes_clean.txt'"
     ]
    }
   ],
   "source": [
    "with open (\"../../Data/quotes_clean.txt\", \"r\") as f_quotes, open(\" ../../Data/quotes_clean.txt\", \"a\") as f_append: \n",
    "    # reads in each line as a list\n",
    "    # strips away \"\\n\"\n",
    "    quote = [quote.strip(\"\\n\") for quote in f_quotes.readlines()] \n",
    "    authors = [quote.split() [-2:]for quote in f_quotes]\n",
    "    \n",
    "    \n",
    "    \n",
    "    \n",
    "    print(authors)\n",
    "    # set - gives thew unique \n",
    "    authors = ([\" \".join(authors) for author in authors])\n",
    "    print(authors)\n",
    "\n",
    "    f_append.write(\"\\nAuthors:\")\n",
    "    for author in authors:\n",
    "        f_append.write(f\"{author}, \")\n",
    "\n",
    "\n"
   ]
  },
  {
   "cell_type": "code",
   "execution_count": 11,
   "metadata": {},
   "outputs": [
    {
     "data": {
      "text/plain": [
       "'William Bogren'"
      ]
     },
     "execution_count": 11,
     "metadata": {},
     "output_type": "execute_result"
    }
   ],
   "source": [
    "name = [[\"William\", \"Bogren\"]]\n",
    "\" \".join(name[0])"
   ]
  }
 ],
 "metadata": {
  "kernelspec": {
   "display_name": "Python 3.9.13 64-bit",
   "language": "python",
   "name": "python3"
  },
  "language_info": {
   "codemirror_mode": {
    "name": "ipython",
    "version": 3
   },
   "file_extension": ".py",
   "mimetype": "text/x-python",
   "name": "python",
   "nbconvert_exporter": "python",
   "pygments_lexer": "ipython3",
   "version": "3.9.13"
  },
  "orig_nbformat": 4,
  "vscode": {
   "interpreter": {
    "hash": "ebe65bd140f136c7973b34a71311e0e4e1c4b538cdbbcbab3215c09a10679b97"
   }
  }
 },
 "nbformat": 4,
 "nbformat_minor": 2
}
