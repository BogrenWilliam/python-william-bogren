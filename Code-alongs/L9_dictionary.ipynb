{
 "cells": [
  {
   "cell_type": "markdown",
   "metadata": {},
   "source": [
    "## Dictionary\n",
    "\n",
    "- datastructure that store data in key:vaule pairs"
   ]
  },
  {
   "cell_type": "code",
   "execution_count": 1,
   "metadata": {},
   "outputs": [
    {
     "name": "stdout",
     "output_type": "stream",
     "text": [
      "person dictionary {'name': 'William', 'age': 20, 'work': 'student', 'interests': ['IT', 'Workout'], 'phone': 11414}\n"
     ]
    }
   ],
   "source": [
    "# create a dictionary with dict keyword \n",
    "\n",
    "person = dict(\n",
    "    name = \"William\", age = 20, work = \"student\", interests = [\"IT\", \"Workout\"], phone = 11414\n",
    "\n",
    ")\n",
    "\n",
    "print(f\"person dictionary {person}\") \n",
    "print(f\"person work: {person\"work\"]}\") # Change citat with enekelt\n",
    "print(f\"person age: {person[\"age\"]}\") \n",
    "\n",
    "print(f\"person interests: {person [\"interests\"][:2]}\\n\")\n",
    "\n",
    "for interst in person [\"interests\"]: \n",
    "    print(f\"William likes {\"interest\"}\")\n",
    "\n",
    "\n"
   ]
  },
  {
   "cell_type": "code",
   "execution_count": 3,
   "metadata": {},
   "outputs": [
    {
     "ename": "SyntaxError",
     "evalue": "EOL while scanning string literal (3943084475.py, line 5)",
     "output_type": "error",
     "traceback": [
      "\u001b[1;36m  Input \u001b[1;32mIn [3]\u001b[1;36m\u001b[0m\n\u001b[1;33m    \"dictionary\": \"datastructure to store data in key-vaule pairs,\u001b[0m\n\u001b[1;37m                                                                  ^\u001b[0m\n\u001b[1;31mSyntaxError\u001b[0m\u001b[1;31m:\u001b[0m EOL while scanning string literal\n"
     ]
    }
   ],
   "source": [
    "# create dictionary with curly brace {}\n",
    "\n",
    "words = {\n",
    "        \"assign\": \"assigns a vaule to a variable\",\n",
    "        \"dictionary\": \"datastructure to store data in key-vaule pairs,\n",
    "        \"method\": \"a function bound to a object\", \n",
    "}\n",
    "\n",
    "print(words)\n",
    "print(\"vi ska läraoss de här glosorna \\n\")\n",
    "\n",
    "for key in words: \n",
    "    print(key, \" - \" ,words[key])"
   ]
  },
  {
   "cell_type": "code",
   "execution_count": 5,
   "metadata": {},
   "outputs": [
    {
     "ename": "NameError",
     "evalue": "name 'words' is not defined",
     "output_type": "error",
     "traceback": [
      "\u001b[1;31m---------------------------------------------------------------------------\u001b[0m",
      "\u001b[1;31mNameError\u001b[0m                                 Traceback (most recent call last)",
      "\u001b[1;32mc:\\Users\\Willi\\OneDrive\\Dokument\\GitHub\\python-william-bogren\\Code-alongs\\Labs\\L9_dictionary.ipynb Cell 4\u001b[0m in \u001b[0;36m<cell line: 1>\u001b[1;34m()\u001b[0m\n\u001b[1;32m----> <a href='vscode-notebook-cell:/c%3A/Users/Willi/OneDrive/Dokument/GitHub/python-william-bogren/Code-alongs/Labs/L9_dictionary.ipynb#W3sZmlsZQ%3D%3D?line=0'>1</a>\u001b[0m \u001b[39mfor\u001b[39;00m key, value \u001b[39min\u001b[39;00m words\u001b[39m.\u001b[39mitems(): \n\u001b[0;32m      <a href='vscode-notebook-cell:/c%3A/Users/Willi/OneDrive/Dokument/GitHub/python-william-bogren/Code-alongs/Labs/L9_dictionary.ipynb#W3sZmlsZQ%3D%3D?line=1'>2</a>\u001b[0m     \u001b[39mprint\u001b[39m(\u001b[39mf\u001b[39m\u001b[39m\"\u001b[39m\u001b[39m \u001b[39m\u001b[39m{\u001b[39;00mkey\u001b[39m:\u001b[39;00m\u001b[39m<20\u001b[39m\u001b[39m}\u001b[39;00m\u001b[39m{\u001b[39;00mvalue\u001b[39m}\u001b[39;00m\u001b[39m\"\u001b[39m) \u001b[39m# :<20 -> right align with width 20 \u001b[39;00m\n\u001b[0;32m      <a href='vscode-notebook-cell:/c%3A/Users/Willi/OneDrive/Dokument/GitHub/python-william-bogren/Code-alongs/Labs/L9_dictionary.ipynb#W3sZmlsZQ%3D%3D?line=3'>4</a>\u001b[0m     \u001b[39mprint\u001b[39m(\u001b[39m\"\u001b[39m\u001b[39m.\u001b[39m\u001b[39m\"\u001b[39m\u001b[39m*\u001b[39m\u001b[39m20\u001b[39m,\u001b[39m1\u001b[39m, \u001b[39m\"\u001b[39m\u001b[39mx\u001b[39m\u001b[39m\"\u001b[39m)\n",
      "\u001b[1;31mNameError\u001b[0m: name 'words' is not defined"
     ]
    }
   ],
   "source": [
    "print(\"Glosor \\n\")\n",
    "for key, value in words.items(): \n",
    "    print(f\" {key:<20}{value}\") # :<20 -> right align with width 20 \n",
    "\n",
    "    print(\".\"*20,1, \"x\")"
   ]
  },
  {
   "cell_type": "code",
   "execution_count": 9,
   "metadata": {},
   "outputs": [
    {
     "name": "stdout",
     "output_type": "stream",
     "text": [
      "{'A': 0, 'B': 10, 'C': 20, 'D': 30, 'E': 40, 'F': 50}\n"
     ]
    },
    {
     "data": {
      "text/plain": [
       "{'A': 0,\n",
       " 'B': 10,\n",
       " 'C': 20,\n",
       " 'D': 30,\n",
       " 'E': 40,\n",
       " 'F': '< 10',\n",
       " 'Course': 'Programmering 1'}"
      ]
     },
     "execution_count": 9,
     "metadata": {},
     "output_type": "execute_result"
    }
   ],
   "source": [
    "# F < 10, E: 10, D: 20, c: 30, B: 40, A: 50\n",
    "\n",
    "# empty dictionary \n",
    "grade_limit = {}\n",
    "\n",
    "for i, character in enumerate(\"ABCDEF\"):\n",
    "    grade_limit[character] = i*10 \n",
    "\n",
    "print(grade_limit)\n",
    "\n",
    "# assogns a new value tat is  associated with the key F \n",
    "grade_limit[\"F\"] = \"< 10\"\n",
    "grade_limit [\"Course\"] = \"Programmering 1\"\n",
    "\n",
    "print(grade_limit) "
   ]
  },
  {
   "cell_type": "markdown",
   "metadata": {},
   "source": [
    "## Dictionary comprehension"
   ]
  },
  {
   "cell_type": "code",
   "execution_count": 13,
   "metadata": {},
   "outputs": [
    {
     "name": "stdout",
     "output_type": "stream",
     "text": [
      "grade_limit={'A': 0, 'B': 10, 'C': 20, 'D': 30, 'E': 40, 'F': 50, '[': 60, ':': 80, '-': 90, '1': 100, ']': 110}\n",
      "scores=[39, 59, 34, 45, 23, 36, 37, 46, 10, 49, 52, 21, 24, 40, 50, 23, 58, 19, 25, 44]\n",
      "{'A': 0, 'B': 2, 'C': 5, 'D': 4, 'E': 5, 'F': 4, '[': 0, ':': 0, '-': 0, '1': 0, ']': 0}\n"
     ]
    }
   ],
   "source": [
    "import random as rnd  \n",
    "\n",
    "grade_limit = {grade: i*10 for i , grade in enumerate(\"ABCDEF[::-1]\")}\n",
    "\n",
    "def generate_scores(number_students): \n",
    "    rnd.seed(1337)\n",
    "    scores = [rnd.randint(0,60) for _ in range(number_students)]\n",
    "    return scores   \n",
    "\n",
    "scores = generate_scores(20)\n",
    "\n",
    "print(f\"{grade_limit=}\")\n",
    "print(f\"{scores=}\")\n",
    "\n",
    "# number of students in each grade category \n",
    "students_in_grade = {key: 0 for key in grade_limit}\n",
    "\n",
    "\n",
    "\n",
    "for score in scores: \n",
    "    for grade, limit in grade_limit.items(): \n",
    "        if limit <= score < limit+10: \n",
    "            students_in_grade[grade] += 1\n",
    "\n",
    "print(students_in_grade)"
   ]
  },
  {
   "cell_type": "code",
   "execution_count": null,
   "metadata": {},
   "outputs": [],
   "source": [
    "# check that all students hav eben put into categories \n",
    "total_students = 0\n",
    "for _, number_students in students_in_grade.items():\n",
    "    total_students += number_students\n",
    "\n",
    "total_students\n"
   ]
  }
 ],
 "metadata": {
  "kernelspec": {
   "display_name": "Python 3.9.13 64-bit",
   "language": "python",
   "name": "python3"
  },
  "language_info": {
   "codemirror_mode": {
    "name": "ipython",
    "version": 3
   },
   "file_extension": ".py",
   "mimetype": "text/x-python",
   "name": "python",
   "nbconvert_exporter": "python",
   "pygments_lexer": "ipython3",
   "version": "3.9.13"
  },
  "orig_nbformat": 4,
  "vscode": {
   "interpreter": {
    "hash": "ebe65bd140f136c7973b34a71311e0e4e1c4b538cdbbcbab3215c09a10679b97"
   }
  }
 },
 "nbformat": 4,
 "nbformat_minor": 2
}
