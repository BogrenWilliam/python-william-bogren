{
 "cells": [
  {
   "cell_type": "markdown",
   "metadata": {},
   "source": [
    "### Strings"
   ]
  },
  {
   "cell_type": "code",
   "execution_count": 3,
   "metadata": {},
   "outputs": [
    {
     "name": "stdout",
     "output_type": "stream",
     "text": [
      "William  Bogren\n",
      "\n",
      "name: William  Bogren,\n",
      "Age: 31,\n",
      "Address: Göteborg,\n",
      "Phone: 112,\n",
      "\n"
     ]
    }
   ],
   "source": [
    "firstname = \"William\"\n",
    "lastname = \"Bogren\"\n",
    "\n",
    "# Concatenate strings\n",
    "name = firstname +\"  \"+lastname\n",
    "age = 31\n",
    "address = \"Göteborg\"\n",
    "phone = \"112\"\n",
    "\n",
    "\n",
    "\n",
    "print(name)\n",
    "\n",
    "\n",
    "# multiline f-string\n",
    "\n",
    "contact = f\"\"\"\n",
    "name: {name},\n",
    "Age: {age},\n",
    "Address: {address},\n",
    "Phone: {phone},\n",
    "\"\"\"\n",
    "\n",
    "print(contact)\n",
    "\n"
   ]
  },
  {
   "cell_type": "markdown",
   "metadata": {},
   "source": [
    "### Iterate though lists and concatenates"
   ]
  },
  {
   "cell_type": "code",
   "execution_count": 8,
   "metadata": {},
   "outputs": [
    {
     "name": "stdout",
     "output_type": "stream",
     "text": [
      "plan\n",
      "må: Ai intro\n",
      "tis: Python\n",
      "on: Matte\n",
      "To: Självplugg\n",
      "fr: Chilla\n",
      "\n"
     ]
    }
   ],
   "source": [
    "schedule = [\"Ai intro\", \"Python\", \"Matte\", \"Självplugg\", \"Chilla\"]\n",
    "days = [\"må\", \"tis\", \"on\", \"To\", \"fr\", \"lö\", \"\"]\n",
    "\n",
    "# \\n => newline\n",
    "week_plan = \"plan\\n\"\n",
    "\n",
    "# plan\n",
    "# må: AI intro\n",
    "# Ti: Python\n",
    "#...\n",
    "\n",
    "for day, task in zip(days, schedule):\n",
    "    week_plan += f\"{day}: {task}\\n\"\n",
    "\n",
    "print(week_plan)\n"
   ]
  },
  {
   "cell_type": "markdown",
   "metadata": {},
   "source": [
    "### Indexing"
   ]
  },
  {
   "cell_type": "code",
   "execution_count": 9,
   "metadata": {},
   "outputs": [
    {
     "name": "stdout",
     "output_type": "stream",
     "text": [
      "quote[0]='!'\n",
      "quote[:6]='!False'\n",
      "quote[-4:]='true'\n",
      "Backwards: quote[::-1]='eurt sti esuaceb ynnuf sti - eslaF!'\n"
     ]
    }
   ],
   "source": [
    "quote = \"!False - its funny because its true\"\n",
    "\n",
    "print(f\"{quote[0]=}\")\n",
    "print(f\"{quote[:6]=}\")\n",
    "print(f\"{quote[-4:]=}\")\n",
    "\n",
    "print(f\"Backwards: {quote[::-1]=}\")\n",
    "\n",
    "print(f\"length of string: {len(quote)}\"characters\")\n",
    "\n"
   ]
  },
  {
   "cell_type": "markdown",
   "metadata": {},
   "source": [
    "### Split strings "
   ]
  },
  {
   "cell_type": "code",
   "execution_count": 10,
   "metadata": {},
   "outputs": [],
   "source": [
    "\n",
    "\n",
    "# not possible\n",
    "# numbers = float(input(\"Ange tre tal (separerad med ,: \")) \n",
    "\n",
    "numbers = input(\"Ange tre tal (separerad med ,): \")\n",
    "\n",
    "# 1. plit the string into a list of 3 stríngs\n",
    "# 2. type convert each string into  a float by interacting though the list\n",
    "\n",
    "# list comprehension\n",
    "numbers = [float(number) for number in numbers.split(\",\")]\n",
    "mean_value = sum(numbers)/len(numbers)\n",
    "print(f\"{numbers=}\")\n",
    "print(f\"{mean_value=}\")\n",
    "\n",
    "\n",
    "\n",
    "\n"
   ]
  },
  {
   "cell_type": "code",
   "execution_count": null,
   "metadata": {},
   "outputs": [],
   "source": [
    "numbers_test = \"2,3,4\"\n",
    "numbers_test.split(\",\")\n",
    "\n",
    "\n"
   ]
  }
 ],
 "metadata": {
  "kernelspec": {
   "display_name": "Python 3.9.13 ('python-william-bogren-mpQ1vL3Q')",
   "language": "python",
   "name": "python3"
  },
  "language_info": {
   "codemirror_mode": {
    "name": "ipython",
    "version": 3
   },
   "file_extension": ".py",
   "mimetype": "text/x-python",
   "name": "python",
   "nbconvert_exporter": "python",
   "pygments_lexer": "ipython3",
   "version": "3.9.13"
  },
  "orig_nbformat": 4,
  "vscode": {
   "interpreter": {
    "hash": "eb48874f49c3f1c6ebacc14d3acb04396bfc1bc699b6f267f3154c0c7ad0a59a"
   }
  }
 },
 "nbformat": 4,
 "nbformat_minor": 2
}
