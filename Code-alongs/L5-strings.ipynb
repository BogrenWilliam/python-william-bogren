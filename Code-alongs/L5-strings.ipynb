{
 "cells": [
  {
   "cell_type": "markdown",
   "metadata": {},
   "source": [
    "### Strings"
   ]
  },
  {
   "cell_type": "code",
   "execution_count": 3,
   "metadata": {},
   "outputs": [
    {
     "name": "stdout",
     "output_type": "stream",
     "text": [
      "William  Bogren\n",
      "\n",
      "name: William  Bogren,\n",
      "Age: 31,\n",
      "Address: Göteborg,\n",
      "Phone: 112,\n",
      "\n"
     ]
    }
   ],
   "source": [
    "firstname = \"William\"\n",
    "lastname = \"Bogren\"\n",
    "\n",
    "# Concatenate strings\n",
    "name = firstname +\"  \"+lastname\n",
    "age = 31\n",
    "address = \"Göteborg\"\n",
    "phone = \"112\"\n",
    "\n",
    "\n",
    "\n",
    "print(name)\n",
    "\n",
    "\n",
    "# multiline f-string\n",
    "\n",
    "contact = f\"\"\"\n",
    "name: {name},\n",
    "Age: {age},\n",
    "Address: {address},\n",
    "Phone: {phone},\n",
    "\"\"\"\n",
    "\n",
    "print(contact)\n",
    "\n"
   ]
  },
  {
   "cell_type": "markdown",
   "metadata": {},
   "source": [
    "### Iterate though lists and concatenates"
   ]
  },
  {
   "cell_type": "code",
   "execution_count": 8,
   "metadata": {},
   "outputs": [
    {
     "name": "stdout",
     "output_type": "stream",
     "text": [
      "plan\n",
      "må: Ai intro\n",
      "tis: Python\n",
      "on: Matte\n",
      "To: Självplugg\n",
      "fr: Chilla\n",
      "\n"
     ]
    }
   ],
   "source": [
    "schedule = [\"Ai intro\", \"Python\", \"Matte\", \"Självplugg\", \"Chilla\"]\n",
    "days = [\"må\", \"tis\", \"on\", \"To\", \"fr\", \"lö\", \"\"]\n",
    "\n",
    "# \\n => newline\n",
    "week_plan = \"plan\\n\"\n",
    "\n",
    "# plan\n",
    "# må: AI intro\n",
    "# Ti: Python\n",
    "#...\n",
    "\n",
    "for day, task in zip(days, schedule):\n",
    "    week_plan += f\"{day}: {task}\\n\"\n",
    "\n",
    "print(week_plan)\n"
   ]
  },
  {
   "cell_type": "markdown",
   "metadata": {},
   "source": [
    "### Indexing"
   ]
  },
  {
   "cell_type": "code",
   "execution_count": 9,
   "metadata": {},
   "outputs": [
    {
     "name": "stdout",
     "output_type": "stream",
     "text": [
      "quote[0]='!'\n",
      "quote[:6]='!False'\n",
      "quote[-4:]='true'\n",
      "Backwards: quote[::-1]='eurt sti esuaceb ynnuf sti - eslaF!'\n"
     ]
    }
   ],
   "source": [
    "quote = \"!False - its funny because its true\"\n",
    "\n",
    "print(f\"{quote[0]=}\")\n",
    "print(f\"{quote[:6]=}\")\n",
    "print(f\"{quote[-4:]=}\")\n",
    "\n",
    "print(f\"Backwards: {quote[::-1]=}\")\n",
    "\n",
    "print(f\"length of string: {len(quote)}\"characters\")\n",
    "\n"
   ]
  },
  {
   "cell_type": "markdown",
   "metadata": {},
   "source": [
    "### Split strings "
   ]
  },
  {
   "cell_type": "code",
   "execution_count": 10,
   "metadata": {},
   "outputs": [],
   "source": [
    "\n",
    "\n",
    "# not possible\n",
    "# numbers = float(input(\"Ange tre tal (separerad med ,: \")) \n",
    "\n",
    "numbers = input(\"Ange tre tal (separerad med ,): \")\n",
    "\n",
    "# 1. plit the string into a list of 3 stríngs\n",
    "# 2. type convert each string into  a float by interacting though the list\n",
    "\n",
    "# list comprehension\n",
    "numbers = [float(number) for number in numbers.split(\",\")]\n",
    "mean_value = sum(numbers)/len(numbers)\n",
    "print(f\"{numbers=}\")\n",
    "print(f\"{mean_value=}\")\n",
    "\n",
    "\n",
    "# help(str.split) - documentation\n",
    "\n",
    "\n",
    "\n",
    "\n",
    "\n",
    "\n"
   ]
  },
  {
   "cell_type": "code",
   "execution_count": null,
   "metadata": {},
   "outputs": [],
   "source": [
    "numbers_test = \"2,3,4\"\n",
    "numbers_test.split(\",\")\n",
    "\n",
    "\n"
   ]
  },
  {
   "cell_type": "markdown",
   "metadata": {},
   "source": [
    "### Regular expression"
   ]
  },
  {
   "cell_type": "code",
   "execution_count": 1,
   "metadata": {},
   "outputs": [
    {
     "ename": "SyntaxError",
     "evalue": "invalid syntax (2151504446.py, line 1)",
     "output_type": "error",
     "traceback": [
      "\u001b[1;36m  Input \u001b[1;32mIn [1]\u001b[1;36m\u001b[0m\n\u001b[1;33m    - find petterns in a string\u001b[0m\n\u001b[1;37m           ^\u001b[0m\n\u001b[1;31mSyntaxError\u001b[0m\u001b[1;31m:\u001b[0m invalid syntax\n"
     ]
    }
   ],
   "source": [
    "- find petterns in a string \n",
    "-e.g phone numbers, email, capital letters, sequeces\n",
    "\n"
   ]
  },
  {
   "cell_type": "code",
   "execution_count": 6,
   "metadata": {},
   "outputs": [
    {
     "name": "stdout",
     "output_type": "stream",
     "text": [
      "['021-347744', '041-449449', '732-245466']\n",
      "hej\\ndå\n"
     ]
    },
    {
     "ename": "NameError",
     "evalue": "name 'refindall' is not defined",
     "output_type": "error",
     "traceback": [
      "\u001b[1;31m---------------------------------------------------------------------------\u001b[0m",
      "\u001b[1;31mNameError\u001b[0m                                 Traceback (most recent call last)",
      "\u001b[1;32mc:\\Users\\Willi\\OneDrive\\Dokument\\GitHub\\python-william-bogren\\Code-alongs\\L5-strings.ipynb Cell 12\u001b[0m in \u001b[0;36m<cell line: 12>\u001b[1;34m()\u001b[0m\n\u001b[0;32m      <a href='vscode-notebook-cell:/c%3A/Users/Willi/OneDrive/Dokument/GitHub/python-william-bogren/Code-alongs/L5-strings.ipynb#X20sZmlsZQ%3D%3D?line=7'>8</a>\u001b[0m \u001b[39mprint\u001b[39m(\u001b[39mr\u001b[39m\u001b[39m\"\u001b[39m\u001b[39mhej\u001b[39m\u001b[39m\\\u001b[39m\u001b[39mndå\u001b[39m\u001b[39m\"\u001b[39m)\n\u001b[0;32m     <a href='vscode-notebook-cell:/c%3A/Users/Willi/OneDrive/Dokument/GitHub/python-william-bogren/Code-alongs/L5-strings.ipynb#X20sZmlsZQ%3D%3D?line=9'>10</a>\u001b[0m \u001b[39m# print(r\"hej\\ndå\")\u001b[39;00m\n\u001b[1;32m---> <a href='vscode-notebook-cell:/c%3A/Users/Willi/OneDrive/Dokument/GitHub/python-william-bogren/Code-alongs/L5-strings.ipynb#X20sZmlsZQ%3D%3D?line=11'>12</a>\u001b[0m match2 \u001b[39m=\u001b[39m refindall(\u001b[39mr\u001b[39m\u001b[39m\"\u001b[39m\u001b[39m\\\u001b[39m\u001b[39md\u001b[39m\u001b[39m{3}\u001b[39;00m\u001b[39m-\u001b[39m\u001b[39m\\\u001b[39m\u001b[39md\u001b[39m\u001b[39m{6}\u001b[39;00m\u001b[39m\"\u001b[39m, text)\n\u001b[0;32m     <a href='vscode-notebook-cell:/c%3A/Users/Willi/OneDrive/Dokument/GitHub/python-william-bogren/Code-alongs/L5-strings.ipynb#X20sZmlsZQ%3D%3D?line=13'>14</a>\u001b[0m \u001b[39mprint\u001b[39m(match2)\n",
      "\u001b[1;31mNameError\u001b[0m: name 'refindall' is not defined"
     ]
    }
   ],
   "source": [
    "import re  \n",
    "text = \"mitt telefonnummber är 021-347744, adas nummer är 041-449449, Bedas nummber är 0732-245466\"\n",
    "\n",
    "# extract the numbers\n",
    "match1 = re.findall(r\"\\d\\d\\d-\\d\\d\\d\\d\\d\\d\", text) # r\"\" - raw string\n",
    "print(match1)\n",
    "\n",
    "print(r\"hej\\ndå\")\n",
    "\n",
    "# print(r\"hej\\ndå\")\n",
    "\n",
    "match2 = re.findall(r\"\\d{3}-\\d{6}\", text)\n",
    "\n",
    "print(match2)\n"
   ]
  },
  {
   "cell_type": "code",
   "execution_count": 7,
   "metadata": {},
   "outputs": [
    {
     "name": "stdout",
     "output_type": "stream",
     "text": [
      "['katt', 'hatt', 'matt', 'matt']\n"
     ]
    }
   ],
   "source": [
    "text = \"Det var en gång enkatt, som tog på sig en hatt, och spelade schack, dick schackmatt med hjälp av skolmatt\"\n",
    "\n",
    "match = re.findall(r\".att\", text)\n",
    "print(match)\n",
    "\n",
    "# try to extract the whole words that ends with \"att\"\n"
   ]
  }
 ],
 "metadata": {
  "kernelspec": {
   "display_name": "Python 3.9.13 ('python-william-bogren-mpQ1vL3Q')",
   "language": "python",
   "name": "python3"
  },
  "language_info": {
   "codemirror_mode": {
    "name": "ipython",
    "version": 3
   },
   "file_extension": ".py",
   "mimetype": "text/x-python",
   "name": "python",
   "nbconvert_exporter": "python",
   "pygments_lexer": "ipython3",
   "version": "3.9.13"
  },
  "orig_nbformat": 4,
  "vscode": {
   "interpreter": {
    "hash": "eb48874f49c3f1c6ebacc14d3acb04396bfc1bc699b6f267f3154c0c7ad0a59a"
   }
  }
 },
 "nbformat": 4,
 "nbformat_minor": 2
}
