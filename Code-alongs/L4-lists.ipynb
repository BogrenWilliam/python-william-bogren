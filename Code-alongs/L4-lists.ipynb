{
 "cells": [
  {
   "cell_type": "markdown",
   "metadata": {},
   "source": [
    "## Lists"
   ]
  },
  {
   "cell_type": "markdown",
   "metadata": {},
   "source": [
    "## Access elements\n"
   ]
  },
  {
   "cell_type": "code",
   "execution_count": 4,
   "metadata": {},
   "outputs": [
    {
     "name": "stdout",
     "output_type": "stream",
     "text": [
      "['pizza', 'lasange', 'spaghett', 'pancakes']\n",
      "nice_foods[0]='pizza'\n",
      "nice_foods[-1]='pancakes'\n"
     ]
    },
    {
     "ename": "IndexError",
     "evalue": "list index out of range",
     "output_type": "error",
     "traceback": [
      "\u001b[1;31m---------------------------------------------------------------------------\u001b[0m",
      "\u001b[1;31mIndexError\u001b[0m                                Traceback (most recent call last)",
      "\u001b[1;32mc:\\Users\\Willi\\OneDrive\\Dokument\\GitHub\\python-william-bogren\\Code-alongs\\L4-lists.ipynb Cell 3\u001b[0m in \u001b[0;36m<cell line: 11>\u001b[1;34m()\u001b[0m\n\u001b[0;32m      <a href='vscode-notebook-cell:/c%3A/Users/Willi/OneDrive/Dokument/GitHub/python-william-bogren/Code-alongs/L4-lists.ipynb#W4sZmlsZQ%3D%3D?line=8'>9</a>\u001b[0m \u001b[39m# get last elemnt\u001b[39;00m\n\u001b[0;32m     <a href='vscode-notebook-cell:/c%3A/Users/Willi/OneDrive/Dokument/GitHub/python-william-bogren/Code-alongs/L4-lists.ipynb#W4sZmlsZQ%3D%3D?line=9'>10</a>\u001b[0m \u001b[39mprint\u001b[39m(\u001b[39mf\u001b[39m\u001b[39m\"\u001b[39m\u001b[39m{\u001b[39;00mnice_foods[\u001b[39m-\u001b[39m\u001b[39m1\u001b[39m]\u001b[39m=}\u001b[39;00m\u001b[39m\"\u001b[39m)\n\u001b[1;32m---> <a href='vscode-notebook-cell:/c%3A/Users/Willi/OneDrive/Dokument/GitHub/python-william-bogren/Code-alongs/L4-lists.ipynb#W4sZmlsZQ%3D%3D?line=10'>11</a>\u001b[0m \u001b[39mprint\u001b[39m(\u001b[39mf\u001b[39m\u001b[39m\"\u001b[39m\u001b[39m{\u001b[39;00mnice_foods[\u001b[39m5\u001b[39m]\u001b[39m=}\u001b[39;00m\u001b[39m\"\u001b[39m)\n\u001b[0;32m     <a href='vscode-notebook-cell:/c%3A/Users/Willi/OneDrive/Dokument/GitHub/python-william-bogren/Code-alongs/L4-lists.ipynb#W4sZmlsZQ%3D%3D?line=12'>13</a>\u001b[0m \u001b[39m# elemtn på index 3\u001b[39;00m\n\u001b[0;32m     <a href='vscode-notebook-cell:/c%3A/Users/Willi/OneDrive/Dokument/GitHub/python-william-bogren/Code-alongs/L4-lists.ipynb#W4sZmlsZQ%3D%3D?line=13'>14</a>\u001b[0m \u001b[39mprint\u001b[39m(\u001b[39m\"\u001b[39m\u001b[39mf\u001b[39m\u001b[39m{\u001b[39m\u001b[39mnice_foods[-3]=}\u001b[39m\u001b[39m\"\u001b[39m)\n",
      "\u001b[1;31mIndexError\u001b[0m: list index out of range"
     ]
    }
   ],
   "source": [
    "# creas a new list withsome elemts\n",
    "\n",
    "nice_foods = [\"pizza\", \"lasange\", \"spaghett\", \"pancakes\"]\n",
    "\n",
    "print(nice_foods)\n",
    "\n",
    "# gets first elemnt\n",
    "print(f\"{nice_foods[0]=}\")\n",
    "# get last elemnt\n",
    "print(f\"{nice_foods[-1]=}\")\n",
    "print(f\"{nice_foods[5]=}\")\n",
    "\n",
    "# elemtn på index 3\n",
    "print(f\"{nice_foods[-3]=}\")"
   ]
  },
  {
   "cell_type": "markdown",
   "metadata": {},
   "source": [
    "## Slicing"
   ]
  },
  {
   "cell_type": "code",
   "execution_count": 6,
   "metadata": {},
   "outputs": [
    {
     "name": "stdout",
     "output_type": "stream",
     "text": [
      "['pizza', 'lasange', 'spaghett', 'pancakes']\n",
      "nice_foods[1:4]=['lasange', 'spaghett', 'pancakes']\n",
      "nice_foods[:-1]=['pizza', 'lasange', 'spaghett']\n",
      "nice_foods[:4]=['pizza', 'lasange', 'spaghett', 'pancakes']\n",
      "nice_foods[::-2]=['pancakes', 'lasange']\n"
     ]
    },
    {
     "data": {
      "text/plain": [
       "<function print>"
      ]
     },
     "execution_count": 6,
     "metadata": {},
     "output_type": "execute_result"
    }
   ],
   "source": [
    "print(nice_foods)\n",
    "print(f\"{nice_foods[1:4]=}\")\n",
    "print(f\"{nice_foods[:-1]=}\") # 0 to -2\n",
    "\n",
    "print(f\"{nice_foods[:4]=}\") # 0,1,2,3\n",
    "print(f\"{nice_foods[::-2]=}\") # reverses the list\n",
    "\n",
    "print"
   ]
  },
  {
   "cell_type": "code",
   "execution_count": 7,
   "metadata": {},
   "outputs": [
    {
     "name": "stdout",
     "output_type": "stream",
     "text": [
      "['lasange', 'pancakes', 'pizza', 'spaghett']\n",
      "[0, 1, 2]\n"
     ]
    }
   ],
   "source": [
    "# sortning by first letter\n",
    "nice_foods.sort()\n",
    "print(nice_foods)\n",
    "\n",
    "numbers = [2,1,5-5]\n",
    "numbers.sort()\n",
    "\n",
    "# sorting ascending\n",
    "print(numbers)\n"
   ]
  },
  {
   "cell_type": "markdown",
   "metadata": {},
   "source": [
    "## for-loop with enumerate"
   ]
  },
  {
   "cell_type": "code",
   "execution_count": 10,
   "metadata": {},
   "outputs": [
    {
     "name": "stdout",
     "output_type": "stream",
     "text": [
      "['lasange', 'pancakes', 'pizza', 'spaghett']\n",
      " 10. lasange\n",
      " 11. pancakes\n",
      " 12. pizza\n",
      " 13. spaghett\n"
     ]
    }
   ],
   "source": [
    "print(nice_foods)\n",
    "\n",
    "# enumerate -> (index, elemnt) in list\n",
    "for i, food in enumerate(nice_foods, 10):\n",
    "    print(f\" {i}. {food}\")\n",
    "\n",
    "    \n",
    "    # for i in range(len(nice_foods)):\n",
    "    #     print(f\"{i}. {nice_foods[i]})\n",
    "    \n",
    "        "
   ]
  },
  {
   "cell_type": "markdown",
   "metadata": {},
   "source": [
    "### list comperhension\n"
   ]
  },
  {
   "cell_type": "code",
   "execution_count": 13,
   "metadata": {},
   "outputs": [
    {
     "data": {
      "text/plain": [
       "[0, 1, 8, 27, 64, 125, 216, 343, 512, 729]"
      ]
     },
     "execution_count": 13,
     "metadata": {},
     "output_type": "execute_result"
    }
   ],
   "source": [
    "# cubes \n",
    "cubes = []\n",
    "\n",
    "for i in range(10):\n",
    "    cubes.append(i**3) # i^3\n",
    "\n",
    "cubes "
   ]
  },
  {
   "cell_type": "code",
   "execution_count": 14,
   "metadata": {},
   "outputs": [
    {
     "data": {
      "text/plain": [
       "[0, 1, 8, 27, 64, 125, 216, 343, 512, 729]"
      ]
     },
     "execution_count": 14,
     "metadata": {},
     "output_type": "execute_result"
    }
   ],
   "source": [
    "# list comprehension \n",
    "cubes = [i**3 for i in range(10)]\n",
    "cubes "
   ]
  },
  {
   "cell_type": "code",
   "execution_count": 16,
   "metadata": {},
   "outputs": [
    {
     "data": {
      "text/plain": [
       "[1, 27, 125, 343, 729]"
      ]
     },
     "execution_count": 16,
     "metadata": {},
     "output_type": "execute_result"
    }
   ],
   "source": [
    "# cubes every odd number \n",
    "cubes_odd = [i**3 for i in range(10) if i%2!=0]\n",
    "cubes_odd"
   ]
  },
  {
   "cell_type": "code",
   "execution_count": null,
   "metadata": {},
   "outputs": [],
   "source": [
    "import random as rnd\n",
    "# dice list\n",
    "dices = [rnd.randint(1,6) for _ in range(10)] # convention to use _ when not using the loop variable \n",
    "dices"
   ]
  },
  {
   "cell_type": "markdown",
   "metadata": {},
   "source": [
    "### lists in list"
   ]
  },
  {
   "cell_type": "code",
   "execution_count": null,
   "metadata": {},
   "outputs": [],
   "source": [
    "grades = [[\"A\", 25], [\"b\", 20],[\"f\", 5]]\n",
    "\n",
    "print(f\"{grades[1]=}\")\n",
    "print(f\"{grades[1] [0]=}\")\n",
    "print(f\"{grades[1][1]=}\")\n"
   ]
  }
 ],
 "metadata": {
  "kernelspec": {
   "display_name": "Python 3.9.13 ('python-william-bogren-mpQ1vL3Q')",
   "language": "python",
   "name": "python3"
  },
  "language_info": {
   "codemirror_mode": {
    "name": "ipython",
    "version": 3
   },
   "file_extension": ".py",
   "mimetype": "text/x-python",
   "name": "python",
   "nbconvert_exporter": "python",
   "pygments_lexer": "ipython3",
   "version": "3.9.13"
  },
  "orig_nbformat": 4,
  "vscode": {
   "interpreter": {
    "hash": "eb48874f49c3f1c6ebacc14d3acb04396bfc1bc699b6f267f3154c0c7ad0a59a"
   }
  }
 },
 "nbformat": 4,
 "nbformat_minor": 2
}
