{
 "cells": [
  {
   "cell_type": "markdown",
   "metadata": {},
   "source": [
    "### Errors\n",
    "\n",
    "- syntax errors - python parser dont understand the code\n",
    "- logical errors - error that occurs when program runs by giving wrong resultat\n",
    "- exeption errors - erros detected druing execution, python parser understadns what to do, but cant do it"
   ]
  },
  {
   "cell_type": "code",
   "execution_count": null,
   "metadata": {},
   "outputs": [],
   "source": [
    "prin(\"hej hej\")\n",
    "\n",
    "# Wrong call til \"p\". Syntax error, linter "
   ]
  },
  {
   "cell_type": "code",
   "execution_count": 1,
   "metadata": {},
   "outputs": [
    {
     "name": "stdout",
     "output_type": "stream",
     "text": [
      "hej den här koden fungerar\n"
     ]
    }
   ],
   "source": [
    "print(\"hej den här koden fungerar\")"
   ]
  },
  {
   "cell_type": "code",
   "execution_count": 3,
   "metadata": {},
   "outputs": [
    {
     "ename": "SyntaxError",
     "evalue": "invalid syntax (3340046875.py, line 2)",
     "output_type": "error",
     "traceback": [
      "\u001b[1;36m  Input \u001b[1;32mIn [3]\u001b[1;36m\u001b[0m\n\u001b[1;33m    print(\"då\")\u001b[0m\n\u001b[1;37m    ^\u001b[0m\n\u001b[1;31mSyntaxError\u001b[0m\u001b[1;31m:\u001b[0m invalid syntax\n"
     ]
    }
   ],
   "source": [
    "print(\"hej\"\n",
    "print(\"då\")\n"
   ]
  },
  {
   "cell_type": "markdown",
   "metadata": {},
   "source": [
    "### Traceback"
   ]
  },
  {
   "cell_type": "code",
   "execution_count": 4,
   "metadata": {},
   "outputs": [
    {
     "name": "stdout",
     "output_type": "stream",
     "text": [
      "start function 1\n",
      "start function 2\n",
      "start function 3\n"
     ]
    },
    {
     "ename": "ZeroDivisionError",
     "evalue": "division by zero",
     "output_type": "error",
     "traceback": [
      "\u001b[1;31m---------------------------------------------------------------------------\u001b[0m",
      "\u001b[1;31mZeroDivisionError\u001b[0m                         Traceback (most recent call last)",
      "\u001b[1;32mc:\\Users\\Willi\\OneDrive\\Dokument\\GitHub\\python-william-bogren\\Code-alongs\\L7-error_handling.ipynb Cell 5\u001b[0m in \u001b[0;36m<cell line: 13>\u001b[1;34m()\u001b[0m\n\u001b[0;32m     <a href='vscode-notebook-cell:/c%3A/Users/Willi/OneDrive/Dokument/GitHub/python-william-bogren/Code-alongs/L7-error_handling.ipynb#W4sZmlsZQ%3D%3D?line=9'>10</a>\u001b[0m     \u001b[39mprint\u001b[39m(\u001b[39m\"\u001b[39m\u001b[39mstart function 3\u001b[39m\u001b[39m\"\u001b[39m)\n\u001b[0;32m     <a href='vscode-notebook-cell:/c%3A/Users/Willi/OneDrive/Dokument/GitHub/python-william-bogren/Code-alongs/L7-error_handling.ipynb#W4sZmlsZQ%3D%3D?line=10'>11</a>\u001b[0m     \u001b[39m3\u001b[39m\u001b[39m/\u001b[39m\u001b[39m0\u001b[39m\n\u001b[1;32m---> <a href='vscode-notebook-cell:/c%3A/Users/Willi/OneDrive/Dokument/GitHub/python-william-bogren/Code-alongs/L7-error_handling.ipynb#W4sZmlsZQ%3D%3D?line=12'>13</a>\u001b[0m func1()\n",
      "\u001b[1;32mc:\\Users\\Willi\\OneDrive\\Dokument\\GitHub\\python-william-bogren\\Code-alongs\\L7-error_handling.ipynb Cell 5\u001b[0m in \u001b[0;36mfunc1\u001b[1;34m()\u001b[0m\n\u001b[0;32m      <a href='vscode-notebook-cell:/c%3A/Users/Willi/OneDrive/Dokument/GitHub/python-william-bogren/Code-alongs/L7-error_handling.ipynb#W4sZmlsZQ%3D%3D?line=0'>1</a>\u001b[0m \u001b[39mdef\u001b[39;00m \u001b[39mfunc1\u001b[39m(): \n\u001b[0;32m      <a href='vscode-notebook-cell:/c%3A/Users/Willi/OneDrive/Dokument/GitHub/python-william-bogren/Code-alongs/L7-error_handling.ipynb#W4sZmlsZQ%3D%3D?line=1'>2</a>\u001b[0m     \u001b[39mprint\u001b[39m(\u001b[39m\"\u001b[39m\u001b[39mstart function 1\u001b[39m\u001b[39m\"\u001b[39m)\n\u001b[1;32m----> <a href='vscode-notebook-cell:/c%3A/Users/Willi/OneDrive/Dokument/GitHub/python-william-bogren/Code-alongs/L7-error_handling.ipynb#W4sZmlsZQ%3D%3D?line=2'>3</a>\u001b[0m     func2()\n",
      "\u001b[1;32mc:\\Users\\Willi\\OneDrive\\Dokument\\GitHub\\python-william-bogren\\Code-alongs\\L7-error_handling.ipynb Cell 5\u001b[0m in \u001b[0;36mfunc2\u001b[1;34m()\u001b[0m\n\u001b[0;32m      <a href='vscode-notebook-cell:/c%3A/Users/Willi/OneDrive/Dokument/GitHub/python-william-bogren/Code-alongs/L7-error_handling.ipynb#W4sZmlsZQ%3D%3D?line=4'>5</a>\u001b[0m \u001b[39mdef\u001b[39;00m \u001b[39mfunc2\u001b[39m():\n\u001b[0;32m      <a href='vscode-notebook-cell:/c%3A/Users/Willi/OneDrive/Dokument/GitHub/python-william-bogren/Code-alongs/L7-error_handling.ipynb#W4sZmlsZQ%3D%3D?line=5'>6</a>\u001b[0m     \u001b[39mprint\u001b[39m(\u001b[39m\"\u001b[39m\u001b[39mstart function 2\u001b[39m\u001b[39m\"\u001b[39m)\n\u001b[1;32m----> <a href='vscode-notebook-cell:/c%3A/Users/Willi/OneDrive/Dokument/GitHub/python-william-bogren/Code-alongs/L7-error_handling.ipynb#W4sZmlsZQ%3D%3D?line=6'>7</a>\u001b[0m     func3()\n",
      "\u001b[1;32mc:\\Users\\Willi\\OneDrive\\Dokument\\GitHub\\python-william-bogren\\Code-alongs\\L7-error_handling.ipynb Cell 5\u001b[0m in \u001b[0;36mfunc3\u001b[1;34m()\u001b[0m\n\u001b[0;32m      <a href='vscode-notebook-cell:/c%3A/Users/Willi/OneDrive/Dokument/GitHub/python-william-bogren/Code-alongs/L7-error_handling.ipynb#W4sZmlsZQ%3D%3D?line=8'>9</a>\u001b[0m \u001b[39mdef\u001b[39;00m \u001b[39mfunc3\u001b[39m():\n\u001b[0;32m     <a href='vscode-notebook-cell:/c%3A/Users/Willi/OneDrive/Dokument/GitHub/python-william-bogren/Code-alongs/L7-error_handling.ipynb#W4sZmlsZQ%3D%3D?line=9'>10</a>\u001b[0m     \u001b[39mprint\u001b[39m(\u001b[39m\"\u001b[39m\u001b[39mstart function 3\u001b[39m\u001b[39m\"\u001b[39m)\n\u001b[1;32m---> <a href='vscode-notebook-cell:/c%3A/Users/Willi/OneDrive/Dokument/GitHub/python-william-bogren/Code-alongs/L7-error_handling.ipynb#W4sZmlsZQ%3D%3D?line=10'>11</a>\u001b[0m     \u001b[39m3\u001b[39;49m\u001b[39m/\u001b[39;49m\u001b[39m0\u001b[39;49m\n",
      "\u001b[1;31mZeroDivisionError\u001b[0m: division by zero"
     ]
    }
   ],
   "source": [
    "def func1(): \n",
    "    print(\"start function 1\")\n",
    "    func2()\n",
    "\n",
    "def func2():\n",
    "    print(\"start function 2\")\n",
    "    func3()\n",
    "\n",
    "def func3():\n",
    "    print(\"start function 3\")\n",
    "    3/0 # exeption error\n",
    "\n",
    "func1()"
   ]
  },
  {
   "cell_type": "markdown",
   "metadata": {},
   "source": [
    "### Logical error\n"
   ]
  },
  {
   "cell_type": "code",
   "execution_count": 5,
   "metadata": {},
   "outputs": [
    {
     "name": "stdout",
     "output_type": "stream",
     "text": [
      "12.566370614359172\n"
     ]
    }
   ],
   "source": [
    "import math \n",
    "\n",
    "circumference = lambda radius: math.pi*radius**2\n",
    "\n",
    "print(circumference(2))\n",
    "\n",
    "\n",
    "# program does what it has been told\n",
    "# we compute the area instead of the circumference\n",
    "# logical error -> hard to find "
   ]
  },
  {
   "cell_type": "markdown",
   "metadata": {},
   "source": [
    "### Try-except \n"
   ]
  },
  {
   "cell_type": "code",
   "execution_count": 6,
   "metadata": {},
   "outputs": [],
   "source": [
    "age = input(\"Ange din ålder: \")\n",
    "\n",
    "\n",
    "age = float(age)\n",
    "\n",
    "# logical error with negative age \n",
    "print(f\" du är {age} år gammal\")\n"
   ]
  },
  {
   "cell_type": "code",
   "execution_count": 2,
   "metadata": {},
   "outputs": [
    {
     "name": "stdout",
     "output_type": "stream",
     "text": [
      "could not convert string to float: 'fyrtiotvå'\n",
      "Programmet forsätter här\n"
     ]
    }
   ],
   "source": [
    "age = input(\"Ange din ålder: \")\n",
    "\n",
    "try: \n",
    "    age = float(age) # tried to convert \"fyrtiotvå\", program throws a ValueError\n",
    "    print(f\"Du är {age} år gammal\")\n",
    "except ValueError as err: # it get caught in the except block \n",
    "        print(err)\n",
    "\n",
    "print(\"Programmet forsätter här\")\n"
   ]
  },
  {
   "cell_type": "code",
   "execution_count": 4,
   "metadata": {},
   "outputs": [
    {
     "name": "stdout",
     "output_type": "stream",
     "text": [
      "could not convert string to float: 'fyrtiotvå'\n"
     ]
    }
   ],
   "source": [
    "while True: \n",
    "\n",
    "\n",
    "    age = input(\"Ange din ålder: \")\n",
    "\n",
    "    try: \n",
    "        age = float(age) \n",
    "        if not 0 <= age <= 125:\n",
    "            raise ValueError(f\"Åldern som du anger måste vara mellan 0 och 125, inte {age}\")\n",
    "        \n",
    "        break\n",
    "    except ValueError as err: \n",
    "        print(err)\n",
    "\n",
    "print(f\"Du är {age} år gammal\") \n"
   ]
  }
 ],
 "metadata": {
  "kernelspec": {
   "display_name": "Python 3.9.13 64-bit",
   "language": "python",
   "name": "python3"
  },
  "language_info": {
   "codemirror_mode": {
    "name": "ipython",
    "version": 3
   },
   "file_extension": ".py",
   "mimetype": "text/x-python",
   "name": "python",
   "nbconvert_exporter": "python",
   "pygments_lexer": "ipython3",
   "version": "3.9.13"
  },
  "orig_nbformat": 4,
  "vscode": {
   "interpreter": {
    "hash": "ebe65bd140f136c7973b34a71311e0e4e1c4b538cdbbcbab3215c09a10679b97"
   }
  }
 },
 "nbformat": 4,
 "nbformat_minor": 2
}
