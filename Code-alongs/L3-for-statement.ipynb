{
 "cells": [
  {
   "cell_type": "markdown",
   "metadata": {},
   "source": [
    "### for loop\n"
   ]
  },
  {
   "cell_type": "code",
   "execution_count": 1,
   "metadata": {},
   "outputs": [
    {
     "name": "stdout",
     "output_type": "stream",
     "text": [
      "hej\n"
     ]
    }
   ],
   "source": [
    "while i > 5:\n",
    "    i += 1  \n",
    "\n",
    "------\n",
    "\n",
    "for i in range(5):\n",
    "    print(i, \"hej\")\n",
    "\n",
    "\n",
    "\n",
    "# i andra språk \n",
    "# for (int i = 0; i < i++){\n",
    "    # statments\n",
    "{"
   ]
  },
  {
   "cell_type": "code",
   "execution_count": 2,
   "metadata": {},
   "outputs": [
    {
     "ename": "SyntaxError",
     "evalue": "invalid syntax (4099779050.py, line 1)",
     "output_type": "error",
     "traceback": [
      "\u001b[1;36m  Input \u001b[1;32mIn [2]\u001b[1;36m\u001b[0m\n\u001b[1;33m    for i range(10):\u001b[0m\n\u001b[1;37m          ^\u001b[0m\n\u001b[1;31mSyntaxError\u001b[0m\u001b[1;31m:\u001b[0m invalid syntax\n"
     ]
    }
   ],
   "source": [
    "for i range(10):\n",
    "    print(i, end = \"\")"
   ]
  },
  {
   "cell_type": "code",
   "execution_count": 5,
   "metadata": {},
   "outputs": [
    {
     "ename": "NameError",
     "evalue": "name 'pasta_konsumtion' is not defined",
     "output_type": "error",
     "traceback": [
      "\u001b[1;31m---------------------------------------------------------------------------\u001b[0m",
      "\u001b[1;31mNameError\u001b[0m                                 Traceback (most recent call last)",
      "\u001b[1;32mc:\\Users\\Willi\\OneDrive\\Dokument\\GitHub\\python-william-bogren\\Code-alongs\\L3-for-statement.ipynb Cell 4\u001b[0m in \u001b[0;36m<cell line: 5>\u001b[1;34m()\u001b[0m\n\u001b[0;32m      <a href='vscode-notebook-cell:/c%3A/Users/Willi/OneDrive/Dokument/GitHub/python-william-bogren/Code-alongs/L3-for-statement.ipynb#W5sZmlsZQ%3D%3D?line=0'>1</a>\u001b[0m \u001b[39mimport\u001b[39;00m \u001b[39mmath\u001b[39;00m \n\u001b[0;32m      <a href='vscode-notebook-cell:/c%3A/Users/Willi/OneDrive/Dokument/GitHub/python-william-bogren/Code-alongs/L3-for-statement.ipynb#W5sZmlsZQ%3D%3D?line=2'>3</a>\u001b[0m tid, psata_konsumtion \u001b[39m=\u001b[39m \u001b[39m0\u001b[39m, \u001b[39m0\u001b[39m\n\u001b[1;32m----> <a href='vscode-notebook-cell:/c%3A/Users/Willi/OneDrive/Dokument/GitHub/python-william-bogren/Code-alongs/L3-for-statement.ipynb#W5sZmlsZQ%3D%3D?line=4'>5</a>\u001b[0m \u001b[39mwhile\u001b[39;00m pasta_konsumtion \u001b[39m<\u001b[39m \u001b[39m15\u001b[39m: \n\u001b[0;32m      <a href='vscode-notebook-cell:/c%3A/Users/Willi/OneDrive/Dokument/GitHub/python-william-bogren/Code-alongs/L3-for-statement.ipynb#W5sZmlsZQ%3D%3D?line=5'>6</a>\u001b[0m     pasta_konsumtion \u001b[39m=\u001b[39m \u001b[39m0.791\u001b[39m\u001b[39m*\u001b[39mmatch\u001b[39m.\u001b[39me\u001b[39m*\u001b[39m\u001b[39m*\u001b[39m(\u001b[39m0.0526\u001b[39m\u001b[39m*\u001b[39mtid)\n\u001b[0;32m      <a href='vscode-notebook-cell:/c%3A/Users/Willi/OneDrive/Dokument/GitHub/python-william-bogren/Code-alongs/L3-for-statement.ipynb#W5sZmlsZQ%3D%3D?line=6'>7</a>\u001b[0m     \u001b[39mprint\u001b[39m(tid\u001b[39m+\u001b[39m\u001b[39m1960\u001b[39m, pasta_konsumtion)\n",
      "\u001b[1;31mNameError\u001b[0m: name 'pasta_konsumtion' is not defined"
     ]
    }
   ],
   "source": [
    "import math \n",
    "\n",
    "tid, psata_konsumtion = 0, 0\n",
    "\n",
    "while pasta_konsumtion < 15: \n",
    "    pasta_konsumtion = 0.791*match.e**(0.0526*tid)\n",
    "    print(tid+1960, pasta_konsumtion)\n",
    "    tid += 1\n"
   ]
  },
  {
   "cell_type": "code",
   "execution_count": null,
   "metadata": {},
   "outputs": [],
   "source": []
  },
  {
   "cell_type": "markdown",
   "metadata": {},
   "source": [
    "### Pasta exer "
   ]
  },
  {
   "cell_type": "code",
   "execution_count": 8,
   "metadata": {},
   "outputs": [
    {
     "name": "stdout",
     "output_type": "stream",
     "text": [
      "år 2016 är pastakonsumptionen är 15kg/person per år \n"
     ]
    }
   ],
   "source": [
    "import math\n",
    "\n",
    "for year in range(10000):\n",
    "    pasta_consumtion = .791*math.exp(.0526*year)\n",
    "    if pasta_consumtion > 15: \n",
    "        print(f\"år {year+1960} är pastakonsumptionen är 15kg/person per år \")\n",
    "        break \n",
    "# A)"
   ]
  },
  {
   "cell_type": "code",
   "execution_count": 2,
   "metadata": {},
   "outputs": [
    {
     "ename": "SyntaxError",
     "evalue": "invalid syntax (2758157514.py, line 19)",
     "output_type": "error",
     "traceback": [
      "\u001b[1;36m  Input \u001b[1;32mIn [2]\u001b[1;36m\u001b[0m\n\u001b[1;33m    print(\"supermycket Pasta\")a\u001b[0m\n\u001b[1;37m                              ^\u001b[0m\n\u001b[1;31mSyntaxError\u001b[0m\u001b[1;31m:\u001b[0m invalid syntax\n"
     ]
    }
   ],
   "source": [
    "# B)\n",
    "\n",
    "import matplotlib.pyplot as plt\n",
    "\n",
    "# creates an emprty list\n",
    "\n",
    "pasta_per_year = []\n",
    "\n",
    "# loops 140 year = because 2100-1960\n",
    "for year in range(140):\n",
    "    pasta_consumtion = .791*math.exp(.0526*year)\n",
    "    pasta_per_year.append(pasta_consumtion)\n",
    "\n",
    "plt.plot(range(1960, 2100), pasta_per_year)\n",
    "plt.xlabel(\"år\")\n",
    "plt.ylabel(\"pastakonstion i år\")\n",
    "plt.title(\"pastakonsumtion/kg per person per år från 1960\")\n",
    "\n",
    "print(\"supermycket Pasta\")a"
   ]
  },
  {
   "cell_type": "code",
   "execution_count": null,
   "metadata": {},
   "outputs": [],
   "source": []
  },
  {
   "cell_type": "markdown",
   "metadata": {},
   "source": [
    "### Nested loops"
   ]
  },
  {
   "cell_type": "code",
   "execution_count": 5,
   "metadata": {},
   "outputs": [
    {
     "name": "stdout",
     "output_type": "stream",
     "text": [
      "(1,1)(1,2)(1,3)\n",
      "(2,1)(2,2)(2,3)\n",
      "(3,1)(3,2)(3,3)\n"
     ]
    }
   ],
   "source": [
    "### print this\n",
    "# - a loop in a loop \n",
    "\n",
    "#(1,1)(1,2)(1,3)\n",
    "#(2,1)(2,2)(2,3)\n",
    "#(3,1)(3,2)(3,3)\n",
    "\n",
    "for row in range(1,4):\n",
    "    for col in range(1,4):\n",
    "        print(f\"({row},{col})\", end=\"\")\n",
    "    print() # newline\n",
    "\n",
    "\n"
   ]
  }
 ],
 "metadata": {
  "kernelspec": {
   "display_name": "Python 3.9.13 ('python-william-bogren-mpQ1vL3Q')",
   "language": "python",
   "name": "python3"
  },
  "language_info": {
   "codemirror_mode": {
    "name": "ipython",
    "version": 3
   },
   "file_extension": ".py",
   "mimetype": "text/x-python",
   "name": "python",
   "nbconvert_exporter": "python",
   "pygments_lexer": "ipython3",
   "version": "3.9.13"
  },
  "orig_nbformat": 4,
  "vscode": {
   "interpreter": {
    "hash": "eb48874f49c3f1c6ebacc14d3acb04396bfc1bc699b6f267f3154c0c7ad0a59a"
   }
  }
 },
 "nbformat": 4,
 "nbformat_minor": 2
}
