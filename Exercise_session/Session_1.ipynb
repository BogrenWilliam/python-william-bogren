{
 "cells": [
  {
   "cell_type": "markdown",
   "metadata": {},
   "source": [
    "## Exercis session 1"
   ]
  },
  {
   "cell_type": "markdown",
   "metadata": {},
   "source": [
    "# Exercose 00-3\n",
    "\n",
    "Formula: \n",
    "$$ accuracy = \\frac {tp+tn}?$$\n"
   ]
  },
  {
   "cell_type": "code",
   "execution_count": null,
   "metadata": {},
   "outputs": [],
   "source": [
    "\n",
    "\n",
    "true_positive = 2\n",
    "false_positve = 2 \n",
    "false_negative = 11 \n",
    "true_negative = 985 \n"
   ]
  }
 ],
 "metadata": {
  "kernelspec": {
   "display_name": "Python 3.9.13 64-bit",
   "language": "python",
   "name": "python3"
  },
  "language_info": {
   "name": "python",
   "version": "3.9.13"
  },
  "orig_nbformat": 4,
  "vscode": {
   "interpreter": {
    "hash": "ebe65bd140f136c7973b34a71311e0e4e1c4b538cdbbcbab3215c09a10679b97"
   }
  }
 },
 "nbformat": 4,
 "nbformat_minor": 2
}
